{
 "cells": [
  {
   "cell_type": "code",
   "execution_count": 451,
   "id": "adjacent-moore",
   "metadata": {
    "tags": []
   },
   "outputs": [],
   "source": [
    "import numpy as np"
   ]
  },
  {
   "cell_type": "code",
   "execution_count": 466,
   "id": "superb-manner",
   "metadata": {},
   "outputs": [],
   "source": [
    "def func(x,y):\n",
    "    der = -4*x+8*y\n",
    "    return der"
   ]
  },
  {
   "cell_type": "code",
   "execution_count": 467,
   "id": "endless-horizontal",
   "metadata": {},
   "outputs": [],
   "source": [
    "x_0 = 1\n",
    "y_0 = 5\n",
    "x_f = 2\n",
    "n = 5\n",
    "h=0.07"
   ]
  },
  {
   "cell_type": "code",
   "execution_count": 468,
   "id": "illegal-lloyd",
   "metadata": {},
   "outputs": [],
   "source": [
    "import pandas as pd"
   ]
  },
  {
   "cell_type": "code",
   "execution_count": 469,
   "id": "confirmed-carry",
   "metadata": {},
   "outputs": [],
   "source": [
    "x = np.zeros(n)\n",
    "y = np.zeros(n)\n",
    "k = np.zeros([n,4])"
   ]
  },
  {
   "cell_type": "code",
   "execution_count": 470,
   "id": "variable-colors",
   "metadata": {},
   "outputs": [
    {
     "name": "stdout",
     "output_type": "stream",
     "text": [
      "1.0      5.0             2.52       3.22       3.41       4.41      \n",
      "1.07     8.36            4.38       5.6        5.94       7.69      \n",
      "1.14     14.22           7.65       9.78       10.37      13.44     \n",
      "1.21     24.46           13.36      17.09      18.13      23.49     \n"
     ]
    }
   ],
   "source": [
    "x[0] = x_0\n",
    "y[0] = y_0\n",
    "#print(\" {0:} {1:}  {2:}    {3:}    {3:}    {4:}\".format(\"x\",\"y\",\"k_1\",\"k_2\",\"k_3\",\"k_4\") )\n",
    "\n",
    "for i in range(n-1):\n",
    "    k_1 = h*func(x[i],y[i])\n",
    "    k_2 = h*func(x[i]+h/2,y[i] + k_1/2)\n",
    "    k_3 = h*func(x[i]+h/2,y[i] + k_2/2)\n",
    "    k_4 = h*func(x[i]+h,y[i] + k_3)\n",
    "    x[i+1] = x[i] + h\n",
    "    y[i+1] = y[i] + k_1/6 + k_2/3 + k_3/3 + k_4/6\n",
    "   # print(\"{0:G} {1:G} {2:G} {3:G} {3:G} {4:G}\" )\n",
    "    print (\"{:<8} {:<15} {:<10} {:<10} {:<10} {:<10}\".format(round(x[i],2),round(y[i],2),round(k_1,2),round(k_2,2),round(k_3,2),round(k_4,2)))\n",
    "#print (\"{:<8} {:<15} {:<10} {:<10}\".format(k, lang, perc, change))\n",
    "\n",
    "\n"
   ]
  },
  {
   "cell_type": "code",
   "execution_count": null,
   "id": "behavioral-martin",
   "metadata": {},
   "outputs": [],
   "source": []
  },
  {
   "cell_type": "code",
   "execution_count": 311,
   "id": "hollow-clothing",
   "metadata": {},
   "outputs": [],
   "source": [
    "import matplotlib.pyplot as plt"
   ]
  },
  {
   "cell_type": "code",
   "execution_count": 313,
   "id": "anonymous-conversion",
   "metadata": {},
   "outputs": [
    {
     "data": {
      "text/plain": [
       "[<matplotlib.lines.Line2D at 0x7f0f1a174760>]"
      ]
     },
     "execution_count": 313,
     "metadata": {},
     "output_type": "execute_result"
    },
    {
     "data": {
      "image/png": "[encoded data removed]",
      "text/plain": [
       "<Figure size 432x288 with 1 Axes>"
      ]
     },
     "metadata": {
      "needs_background": "light"
     },
     "output_type": "display_data"
    }
   ],
   "source": [
    "plt.plot(x,y)\n",
    "#plt.plot(s,np.tan(s))"
   ]
  },
  {
   "cell_type": "code",
   "execution_count": 190,
   "id": "interested-teens",
   "metadata": {},
   "outputs": [],
   "source": [
    "s= np.arange(0,np.pi/2-0.2,(np.pi/2-0.2)/100)"
   ]
  },
  {
   "cell_type": "code",
   "execution_count": 191,
   "id": "dirty-finnish",
   "metadata": {},
   "outputs": [
    {
     "data": {
      "text/plain": [
       "[<matplotlib.lines.Line2D at 0x7f0f222f75b0>]"
      ]
     },
     "execution_count": 191,
     "metadata": {},
     "output_type": "execute_result"
    },
    {
     "data": {
      "image/png": "[encoded data removed]",
      "text/plain": [
       "<Figure size 432x288 with 1 Axes>"
      ]
     },
     "metadata": {
      "needs_background": "light"
     },
     "output_type": "display_data"
    }
   ],
   "source": [
    "plt.plot(s,np.tan(s))"
   ]
  },
  {
   "cell_type": "code",
   "execution_count": 435,
   "id": "extreme-cowboy",
   "metadata": {},
   "outputs": [],
   "source": [
    "import sympy as sy"
   ]
  },
  {
   "cell_type": "code",
   "execution_count": 436,
   "id": "established-pastor",
   "metadata": {},
   "outputs": [],
   "source": [
    "y = sy.Function(\"y\")\n",
    "x = sy.Symbol(\"x\")"
   ]
  },
  {
   "cell_type": "code",
   "execution_count": 437,
   "id": "novel-bradley",
   "metadata": {},
   "outputs": [],
   "source": [
    "#eq=sy.dsolve(sy.Derivative(y(x),x ) + 4*(x**2)*y(x), y(x))\n",
    "\n",
    "res = sy.dsolve(sy.Derivative(y(x),x ) -4*x +2*y(x), y(x), ics={y(0): 2})\n"
   ]
  },
  {
   "cell_type": "code",
   "execution_count": 438,
   "id": "coated-syndrome",
   "metadata": {},
   "outputs": [
    {
     "data": {
      "text/latex": [
       "$\\displaystyle y{\\left(x \\right)} = \\left(\\left(2 x - 1\\right) e^{2 x} + 3\\right) e^{- 2 x}$"
      ],
      "text/plain": [
       "Eq(y(x), ((2*x - 1)*exp(2*x) + 3)*exp(-2*x))"
      ]
     },
     "execution_count": 438,
     "metadata": {},
     "output_type": "execute_result"
    }
   ],
   "source": [
    "res"
   ]
  },
  {
   "cell_type": "code",
   "execution_count": 439,
   "id": "spatial-rotation",
   "metadata": {},
   "outputs": [],
   "source": [
    "a = res.rhs.subs(x,-3.86).evalf()"
   ]
  },
  {
   "cell_type": "code",
   "execution_count": 440,
   "id": "unique-continent",
   "metadata": {},
   "outputs": [],
   "source": [
    "x_ = np.arange(0,0.6,0.1)"
   ]
  },
  {
   "cell_type": "code",
   "execution_count": 441,
   "id": "controversial-regulation",
   "metadata": {},
   "outputs": [],
   "source": [
    "y_ = [res.rhs.subs(x_,i).evalf() for i in x_]"
   ]
  },
  {
   "cell_type": "code",
   "execution_count": 442,
   "id": "abstract-pressing",
   "metadata": {},
   "outputs": [],
   "source": [
    "y_ = np.array(y_)"
   ]
  },
  {
   "cell_type": "code",
   "execution_count": 443,
   "id": "studied-exclusion",
   "metadata": {},
   "outputs": [
    {
     "data": {
      "text/plain": [
       "array([((2.0*x - 1.0)*exp(2*x) + 3.0)*exp(-2*x),\n",
       "       ((2.0*x - 1.0)*exp(2*x) + 3.0)*exp(-2*x),\n",
       "       ((2.0*x - 1.0)*exp(2*x) + 3.0)*exp(-2*x),\n",
       "       ((2.0*x - 1.0)*exp(2*x) + 3.0)*exp(-2*x),\n",
       "       ((2.0*x - 1.0)*exp(2*x) + 3.0)*exp(-2*x),\n",
       "       ((2.0*x - 1.0)*exp(2*x) + 3.0)*exp(-2*x)], dtype=object)"
      ]
     },
     "execution_count": 443,
     "metadata": {},
     "output_type": "execute_result"
    }
   ],
   "source": [
    "y_"
   ]
  },
  {
   "cell_type": "code",
   "execution_count": null,
   "id": "latter-brass",
   "metadata": {},
   "outputs": [],
   "source": []
  }
 ],
 "metadata": {
  "kernelspec": {
   "display_name": "Python 3",
   "language": "python",
   "name": "python3"
  },
  "language_info": {
   "codemirror_mode": {
    "name": "ipython",
    "version": 3
   },
   "file_extension": ".py",
   "mimetype": "text/x-python",
   "name": "python",
   "nbconvert_exporter": "python",
   "pygments_lexer": "ipython3",
   "version": "3.8.5"
  }
 },
 "nbformat": 4,
 "nbformat_minor": 5
}
