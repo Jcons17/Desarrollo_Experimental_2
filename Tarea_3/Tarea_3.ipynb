{
 "cells": [
  {
   "cell_type": "code",
   "execution_count": 1,
   "id": "supposed-tennessee",
   "metadata": {},
   "outputs": [],
   "source": [
    "import numpy as np \n",
    "import matplotlib.pyplot as plt\n",
    "import pandas as pd\n",
    "import random\n",
    "from scipy.spatial import distance\n",
    "import os\n"
   ]
  },
  {
   "cell_type": "code",
   "execution_count": 2,
   "id": "immune-glass",
   "metadata": {},
   "outputs": [],
   "source": [
    "class arreglo2D_aleatorio_cm:\n",
    "    def __init__(self,n,N):\n",
    "        self.n=n\n",
    "        self.N=N\n",
    "        self.data=self.array()\n",
    "        self.large = self.L()\n",
    "\n",
    "    def L(self):\n",
    "        return (self.N/self.n)**(1/2)\n",
    "\n",
    "    def r(self):\n",
    "        return float(np.sqrt(self.n)/2)\n",
    "    \n",
    "    def new_point(self):\n",
    "        x=self.L()*(1-2*self.r()/self.L())*(random.random() - 1/2)\n",
    "        y=self.L()*(1-2*self.r()/self.L())*(random.random() - 1/2)\n",
    "        return (x,y)\n",
    "\n",
    "    def array(self):\n",
    "        \n",
    "        Dat=[self.new_point()]\n",
    "        \n",
    "        i=0\n",
    "        while len(Dat)<self.N:\n",
    "            i = i+1\n",
    "            x=self.L()*(1-2*self.r()/self.L())*(random.random() - 1/2)\n",
    "            y=self.L()*(1-2*self.r()/self.L())*(random.random() - 1/2)\n",
    "            Par=(x,y)\n",
    "            Dat.append(Par) \n",
    "            for j in range(1,i+1):\n",
    "                distancia=distance.euclidean(Par,Dat[i-j])\n",
    "                if distancia < 2*self.r():\n",
    "                    Dat.pop()\n",
    "                    i=i-1\n",
    "                    break\n",
    "        return Dat\n",
    "\n",
    "    def graph(self,data,title,size,c,contador,trazadora):\n",
    "        color_pre=c\n",
    "        plt.ioff()\n",
    "        fig, ax = plt.subplots(figsize=(size,size))\n",
    "        plt.xlim(-self.L()/2,self.L()/2)\n",
    "        plt.ylim(-self.L()/2,self.L()/2)\n",
    "        plt.grid(linestyle='--')\n",
    "        ax.set_aspect(1)\n",
    "        for i in range(0,len(data)):\n",
    "            if i == trazadora:\n",
    "                c=\"r\"\n",
    "            else:    \n",
    "                c=color_pre\n",
    "            circle1 = plt.Circle(data[i], self.r(), color=c)\n",
    "            ax.add_artist(circle1)\n",
    "            #ax.annotate(str(i), xy=data[i], fontsize=8)\n",
    "\n",
    "        plt.title(title, fontsize=16)\n",
    "        plt.savefig(\"./image/\" + str(contador) + \".png\")\n",
    "        plt.close(fig)\n",
    "        \n",
    "    def graph_show(self,data,title):\n",
    "        plt.ion()\n",
    "        fig, ax = plt.subplots(figsize=(5,5))\n",
    "        plt.xlim(-self.L()/2,self.L()/2)\n",
    "        plt.ylim(-self.L()/2,self.L()/2)\n",
    "        plt.grid(linestyle='--')\n",
    "        ax.set_aspect(1)\n",
    "        for i in range(0,len(data)):\n",
    "            circle1 = plt.Circle(data[i], self.r(), color=\"r\")\n",
    "            ax.add_artist(circle1)\n",
    "            #ax.annotate(str(i), xy=data[i], fontsize=8)\n",
    "\n",
    "        plt.title(title, fontsize=16)\n",
    "        plt.show\n",
    "    \n",
    "   \n",
    "\n"
   ]
  },
  {
   "cell_type": "code",
   "execution_count": 3,
   "id": "certain-violin",
   "metadata": {},
   "outputs": [],
   "source": [
    "class arreglo2D_aleatorio_sm(arreglo2D_aleatorio_cm):\n",
    "    def array(self):\n",
    "         \n",
    "        Dat=[( self.L()*(random.random() - 1/2) , self.L()(random.random() - 1/2))]\n",
    "        i=0\n",
    "        while len(Dat)<self.N:\n",
    "            i = i+1\n",
    "            x=self.L()*(random.random() - 1/2)\n",
    "            y=self.L()*(random.random() - 1/2)\n",
    "            Par=(x,y)\n",
    "            Dat.append(Par)\n",
    "            for j in range(1,i+1):\n",
    "                distancia=distance.euclidean(Par,Dat[i-j])\n",
    "                if distancia < 2 * self.r():\n",
    "                    Dat.pop()\n",
    "                    i=i-1\n",
    "                    break\n",
    "        return Dat\n"
   ]
  },
  {
   "cell_type": "code",
   "execution_count": 4,
   "id": "changing-correspondence",
   "metadata": {},
   "outputs": [],
   "source": [
    "class arreglo2D_cuadrado(arreglo2D_aleatorio_cm):\n",
    "    def array(self):\n",
    "        i=0\n",
    "        x=[]\n",
    "        Nfinal = int(round(np.sqrt(self.N),0))\n",
    "        for i in range(Nfinal):\n",
    "            x.append(-self.L()/2+2*self.r()/2  +i*self.L()/(Nfinal))\n",
    "        p=set([(i, j) for i in x for j in x])\n",
    "        dat = list(p)\n",
    "        return dat"
   ]
  },
  {
   "cell_type": "code",
   "execution_count": 5,
   "id": "frequent-meaning",
   "metadata": {},
   "outputs": [
    {
     "name": "stdout",
     "output_type": "stream",
     "text": [
      "¿Que tipo de configuración inicial desea?\n",
      "1.- Configuración aleatoria con margenes\n",
      "2.- Configuración aleatoria sin margenes\n",
      "3.- Configuración uniforme\n",
      "Escoja: 1\n"
     ]
    }
   ],
   "source": [
    "print(\"¿Que tipo de configuración inicial desea?\")\n",
    "print(\"1.- Configuración aleatoria con margenes\")\n",
    "print(\"2.- Configuración aleatoria sin margenes\")\n",
    "print(\"3.- Configuración uniforme\")\n",
    "\n",
    "des= input(\"Escoja: \")\n"
   ]
  },
  {
   "cell_type": "code",
   "execution_count": 6,
   "id": "single-train",
   "metadata": {},
   "outputs": [],
   "source": [
    "\n",
    "class montecarlo2D(arreglo2D_aleatorio_cm):\n",
    "\n",
    "    def mod_pot(self, distancia):\n",
    "        if distancia < self.large/2 and distancia < 2*self.r():\n",
    "            V =  1e10\n",
    "        else:\n",
    "            V = 0\n",
    "        return V\n",
    "\n",
    "    def sumaup(self,data):\n",
    "        V = 0\n",
    "        i=1\n",
    "        m=0\n",
    "        while i<len(data):\n",
    "            for j in range(0,i):\n",
    "                ri=np.array(data[i])\n",
    "                rj=np.array(data[j])\n",
    "                ri = ri - self.large*np.round(ri/self.large)\n",
    "                rj = rj - self.large*np.round(rj/self.large)\n",
    "                rij= ri - rj  \n",
    "                distancia=np.linalg.norm(rij)\n",
    "                Vij = self.mod_pot(distancia)\n",
    "                if Vij > 75:\n",
    "                    print(i,j)\n",
    "\n",
    "                V = V + Vij\n",
    "            i = i+1           \n",
    "        return V\n",
    "\n",
    "    def UP(self,i,ri,data):\n",
    "        V = 0\n",
    "\n",
    "        for j in range(0,len(data)):\n",
    "            if i != j:\n",
    "                ri = ri - self.large*np.round(ri/self.large)\n",
    "                rj=np.array(data[j])\n",
    "                rj = rj - self.large*(np.round(rj/self.large))\n",
    "                rij= ri - rj  \n",
    "                distancia=np.linalg.norm(rij)\n",
    "                Vij = self.mod_pot(distancia)                \n",
    "                V = V + Vij\n",
    "        return V\n",
    "\n",
    "    def algoritmo(self,NSTEP,R_MAX):        \n",
    "        Ut_old = self.sumaup(self.data)\n",
    "        i=0\n",
    "        k=0\n",
    "        data_new = np.array([self.data])\n",
    "        p=[]\n",
    "        while k<NSTEP:\n",
    "            array1 = []\n",
    "            i=0\n",
    "            m=0\n",
    "            while i < len(self.data):\n",
    "                ri_old=data_new[k][i]\n",
    "                Ui_old = self.UP(i,ri_old,data_new[k])\n",
    "                ri_random = np.array((random.random()-0.5,random.random()-0.5))\n",
    "                ri_new = ri_old + R_MAX*ri_random\n",
    "                ri_new = ri_new + self.large*(-np.round(ri_new/self.large))\n",
    "                array1.append(list(ri_new))\n",
    "                Ui_new_1 = self.UP(i,ri_new,array1)\n",
    "                Ui_new_2 = self.UP(i,ri_new,data_new[k])                \n",
    "                delta_u = Ui_new_1 + Ui_new_2  - Ui_old\n",
    "                print(k,i)\n",
    "                if delta_u < 75 or delta_u <= 0:\n",
    "                    pass\n",
    "                elif np.exp(-delta_u) > random.random():\n",
    "                    pass\n",
    "                else:\n",
    "                    m=m+1\n",
    "                    i = i - 1\n",
    "                    array1.pop(-1)\n",
    "                i += 1\n",
    "            data_new = np.append(data_new,[array1],axis=0) \n",
    "            k += 1\n",
    "        return data_new\n",
    "\n",
    "    def trazadora(self,data,rand):\n",
    "        k=0\n",
    "        i=0\n",
    "        NSTEP=len(data)\n",
    "        N=len(data[1])\n",
    "        Path_traz=[]\n",
    "\n",
    "        for k in range(NSTEP):\n",
    "            for i in range(N):\n",
    "                if i==rand:\n",
    "                    Path_traz.append(data[k][i])\n",
    "\n",
    "        return Path_traz\n",
    "\n",
    "    def graph_traz(self,data):\n",
    "        fig, ax = plt.subplots(figsize=(10,10))\n",
    "        plt.ioff()\n",
    "        plt.xlim(-self.L()/2,self.L()/2)\n",
    "        plt.ylim(-self.L()/2,self.L()/2)\n",
    "        plt.grid(linestyle='--')\n",
    "        ax.set_aspect(1)\n",
    "        for i in range(0,len(data)):\n",
    "            c=((1,i/len(data),np.exp(-0.8*i/(len(data))),1))\n",
    "            circle1 = plt.Circle(data[i], self.r()/10, color=c)\n",
    "            ax.add_artist(circle1)\n",
    "            #ax.annotate(str(i), xy=data[i], fontsize=8)\n",
    "\n",
    "        plt.title(\"Trayectoria partícula trazadora\", fontsize=16)\n",
    "        plt.show()\n",
    "        plt.close(fig)\n",
    "        \n",
    "    def animacion(self,data):\n",
    "        \n",
    "        for r in  range(len(data)):\n",
    "            self.graph(data[r],str(r)+\".png\",10,\"b\",r,N_trazadora) \n",
    "        \n",
    "        import glob\n",
    "        from PIL import Image\n",
    "        import os\n",
    "\n",
    "        # filepaths\n",
    "        fp_in = \"./image/*.png\"\n",
    "        fp_out =  \"simulacion_N=\"+str(self.N)+\"_n=\"+str(self.n)+\"_NSTEP=\"+str(NSTEP)+\"_DMAX=\"+str(DMAX)+\".gif\"\n",
    "\n",
    "        # https://pillow.readthedocs.io/en/stable/handbook/image-file-formats.html#gif\n",
    "        img, *imgs = [Image.open(f) for f in sorted(glob.glob(fp_in), key=os.path.getmtime)]\n",
    "        img.save(fp=fp_out, format='GIF', append_images=imgs,\n",
    "                 save_all=True, duration=1000/24, loop=0)\n",
    "        \n",
    "        return fp_out\n",
    "    \n",
    "    def display_gif(self,fn):\n",
    "        from IPython import display\n",
    "        return display.HTML('<img src=\"{}\">'.format(fn))\n",
    "            \n",
    "\n",
    "        \n",
    "\n"
   ]
  },
  {
   "cell_type": "code",
   "execution_count": 7,
   "id": "superior-luxury",
   "metadata": {},
   "outputs": [
    {
     "data": {
      "text/plain": [
       "4.47213595499958"
      ]
     },
     "execution_count": 7,
     "metadata": {},
     "output_type": "execute_result"
    }
   ],
   "source": [
    "n=0.5\n",
    "N=10\n",
    "mama=montecarlo2D(n,N)\n",
    "mama.L()\n"
   ]
  },
  {
   "cell_type": "code",
   "execution_count": 8,
   "id": "attached-cross",
   "metadata": {},
   "outputs": [],
   "source": [
    "#n = input(\"Escribe n: \")\n",
    "#N = input(\"Escribe N: \")\n",
    "#NSTEP = input(\"Escribe NSTEP: \")\n",
    "#DMAX = input(\"Escribe DMAX: \")\n",
    "n=0.5\n",
    "N=10\n",
    "NSTEP=5\n",
    "DMAX=0.2\n"
   ]
  },
  {
   "cell_type": "code",
   "execution_count": 9,
   "id": "amazing-health",
   "metadata": {},
   "outputs": [
    {
     "data": {
      "image/png": "[encoded data removed]",
      "text/plain": [
       "<Figure size 360x360 with 1 Axes>"
      ]
     },
     "metadata": {
      "needs_background": "light"
     },
     "output_type": "display_data"
    }
   ],
   "source": [
    "montecarlo = montecarlo2D(n,N)\n",
    "montecarlo.graph_show(montecarlo.data,\"hola\")\n"
   ]
  },
  {
   "cell_type": "code",
   "execution_count": 10,
   "id": "naughty-bidding",
   "metadata": {
    "scrolled": true
   },
   "outputs": [
    {
     "name": "stdout",
     "output_type": "stream",
     "text": [
      "0 0\n",
      "0 1\n",
      "0 2\n",
      "0 3\n",
      "0 4\n",
      "0 5\n",
      "0 6\n",
      "0 7\n",
      "0 8\n",
      "0 9\n",
      "1 0\n",
      "1 1\n",
      "1 2\n",
      "1 3\n",
      "1 4\n",
      "1 5\n",
      "1 6\n",
      "1 7\n",
      "1 8\n",
      "1 9\n",
      "2 0\n",
      "2 1\n",
      "2 2\n",
      "2 3\n",
      "2 4\n",
      "2 5\n",
      "2 6\n",
      "2 7\n",
      "2 8\n",
      "2 9\n",
      "3 0\n",
      "3 1\n",
      "3 2\n",
      "3 3\n",
      "3 4\n",
      "3 5\n",
      "3 6\n",
      "3 7\n",
      "3 8\n",
      "3 9\n",
      "4 0\n",
      "4 1\n",
      "4 2\n",
      "4 3\n",
      "4 4\n",
      "4 5\n",
      "4 6\n",
      "4 7\n",
      "4 8\n",
      "4 8\n",
      "4 9\n"
     ]
    }
   ],
   "source": [
    "configuracion=montecarlo.algoritmo(NSTEP,DMAX)\n",
    "configuracion_inicial=configuracion[0]\n",
    "configuracion_final=configuracion[-1]\n",
    "\n"
   ]
  },
  {
   "cell_type": "code",
   "execution_count": 11,
   "id": "silent-wallpaper",
   "metadata": {},
   "outputs": [
    {
     "data": {
      "text/plain": [
       "8"
      ]
     },
     "execution_count": 11,
     "metadata": {},
     "output_type": "execute_result"
    }
   ],
   "source": [
    "Potencial_final=montecarlo.sumaup(configuracion_final)\n",
    "N_trazadora=random.randint(0,montecarlo.N-1)\n",
    "N_trazadora"
   ]
  },
  {
   "cell_type": "code",
   "execution_count": 12,
   "id": "christian-puzzle",
   "metadata": {},
   "outputs": [],
   "source": [
    "Path_traz=montecarlo.trazadora(configuracion,N_trazadora)"
   ]
  },
  {
   "cell_type": "code",
   "execution_count": 13,
   "id": "innocent-crowd",
   "metadata": {
    "scrolled": false
   },
   "outputs": [
    {
     "data": {
      "image/png": "[encoded data removed]",
      "text/plain": [
       "<Figure size 720x720 with 1 Axes>"
      ]
     },
     "metadata": {
      "needs_background": "light"
     },
     "output_type": "display_data"
    }
   ],
   "source": [
    "montecarlo.graph_traz(Path_traz)"
   ]
  },
  {
   "cell_type": "code",
   "execution_count": 14,
   "id": "moral-bibliography",
   "metadata": {},
   "outputs": [],
   "source": [
    "fn = montecarlo.animacion(configuracion)"
   ]
  },
  {
   "cell_type": "code",
   "execution_count": 15,
   "id": "broad-revolution",
   "metadata": {},
   "outputs": [
    {
     "data": {
      "text/html": [
       "<img src=\"simulacion_N=10_n=0.5_NSTEP=5_DMAX=0.2.gif\">"
      ],
      "text/plain": [
       "<IPython.core.display.HTML object>"
      ]
     },
     "execution_count": 15,
     "metadata": {},
     "output_type": "execute_result"
    }
   ],
   "source": [
    "montecarlo.display_gif(fn)"
   ]
  },
  {
   "cell_type": "code",
   "execution_count": 16,
   "id": "amber-orbit",
   "metadata": {},
   "outputs": [
    {
     "data": {
      "text/html": [
       "<img src=\"./image/0.png\">"
      ],
      "text/plain": [
       "<IPython.core.display.HTML object>"
      ]
     },
     "execution_count": 16,
     "metadata": {},
     "output_type": "execute_result"
    }
   ],
   "source": [
    "montecarlo.display_gif(\"./image/0.png\")\n"
   ]
  },
  {
   "cell_type": "code",
   "execution_count": 17,
   "id": "applied-photography",
   "metadata": {},
   "outputs": [
    {
     "data": {
      "text/html": [
       "<img src=\"./image/5.png\">"
      ],
      "text/plain": [
       "<IPython.core.display.HTML object>"
      ]
     },
     "execution_count": 17,
     "metadata": {},
     "output_type": "execute_result"
    }
   ],
   "source": [
    "montecarlo.display_gif(\"./image/\"+str(len(configuracion)-1)+\".png\")\n"
   ]
  },
  {
   "cell_type": "code",
   "execution_count": 18,
   "id": "alive-gospel",
   "metadata": {},
   "outputs": [
    {
     "data": {
      "text/plain": [
       "''"
      ]
     },
     "execution_count": 18,
     "metadata": {},
     "output_type": "execute_result"
    }
   ],
   "source": [
    "os.popen('rm ./image/*.png').read()"
   ]
  },
  {
   "cell_type": "code",
   "execution_count": null,
   "id": "electrical-tanzania",
   "metadata": {},
   "outputs": [],
   "source": []
  },
  {
   "cell_type": "code",
   "execution_count": 19,
   "id": "earned-romantic",
   "metadata": {},
   "outputs": [],
   "source": [
    "class montecarlo2D_a_c3(arreglo2D_cuadrado,montecarlo2D):\n",
    "    pass"
   ]
  },
  {
   "cell_type": "code",
   "execution_count": 20,
   "id": "naked-therapist",
   "metadata": {},
   "outputs": [],
   "source": [
    "montecarlo_cubico = montecarlo2D_a_c3(1,25)"
   ]
  },
  {
   "cell_type": "code",
   "execution_count": 21,
   "id": "integral-opposition",
   "metadata": {},
   "outputs": [
    {
     "data": {
      "image/png": "[encoded data removed]",
      "text/plain": [
       "<Figure size 360x360 with 1 Axes>"
      ]
     },
     "metadata": {
      "needs_background": "light"
     },
     "output_type": "display_data"
    }
   ],
   "source": [
    "montecarlo_cubico.graph_show(montecarlo_cubico.data,\"montecarlo_cubico\")"
   ]
  },
  {
   "cell_type": "code",
   "execution_count": null,
   "id": "furnished-bench",
   "metadata": {},
   "outputs": [],
   "source": []
  }
 ],
 "metadata": {
  "kernelspec": {
   "display_name": "Python 3",
   "language": "python",
   "name": "python3"
  },
  "language_info": {
   "codemirror_mode": {
    "name": "ipython",
    "version": 3
   },
   "file_extension": ".py",
   "mimetype": "text/x-python",
   "name": "python",
   "nbconvert_exporter": "python",
   "pygments_lexer": "ipython3",
   "version": "3.8.5"
  }
 },
 "nbformat": 4,
 "nbformat_minor": 5
}
